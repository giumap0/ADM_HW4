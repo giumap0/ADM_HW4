{
 "cells": [
  {
   "cell_type": "code",
   "execution_count": 23,
   "metadata": {},
   "outputs": [],
   "source": [
    "import os\n",
    "from bs4 import BeautifulSoup\n",
    "import pandas as pd\n",
    "import requests\n",
    "from nltk.corpus import stopwords\n",
    "from nltk.stem import PorterStemmer\n",
    "from nltk.tokenize import RegexpTokenizer"
   ]
  },
  {
   "cell_type": "code",
   "execution_count": 25,
   "metadata": {},
   "outputs": [
    {
     "name": "stdout",
     "output_type": "stream",
     "text": [
      "[nltk_data] Downloading package stopwords to\n",
      "[nltk_data]     C:\\Users\\valer\\AppData\\Roaming\\nltk_data...\n",
      "[nltk_data]   Unzipping corpora\\stopwords.zip.\n"
     ]
    },
    {
     "data": {
      "text/plain": [
       "True"
      ]
     },
     "execution_count": 25,
     "metadata": {},
     "output_type": "execute_result"
    }
   ],
   "source": [
    "import nltk\n",
    "nltk.download('stopwords')"
   ]
  },
  {
   "cell_type": "code",
   "execution_count": 2,
   "metadata": {},
   "outputs": [],
   "source": [
    "url = 'https://www.immobiliare.it/vendita-case/roma/?criterio=rilevanza&pag=1'\n"
   ]
  },
  {
   "cell_type": "code",
   "execution_count": 3,
   "metadata": {},
   "outputs": [],
   "source": [
    "response = requests.get(url)"
   ]
  },
  {
   "cell_type": "code",
   "execution_count": 4,
   "metadata": {},
   "outputs": [],
   "source": [
    "html_soup = BeautifulSoup(response.text, 'html.parser')"
   ]
  },
  {
   "cell_type": "code",
   "execution_count": 5,
   "metadata": {},
   "outputs": [],
   "source": [
    "house_containers = html_soup.find_all('div', class_ = 'listing-item_body--content')"
   ]
  },
  {
   "cell_type": "code",
   "execution_count": 6,
   "metadata": {},
   "outputs": [
    {
     "data": {
      "text/plain": [
       "<div class=\"listing-item_body--content\">\n",
       "<p class=\"titolo text-primary\">\n",
       "<a data-row-link=\"\" href=\"https://www.immobiliare.it/53131931-Vendita-Bilocale-viale-Italo-Calvino-Roma.html\" id=\"link_ad_53131931\" title=\"Bilocale viale Italo Calvino, Fonte Ostiense, Roma\">Bilocale viale Italo Calvino, Fonte Ostiense, Roma</a>\n",
       "</p>\n",
       "<ul class=\"listing-features list-piped\">\n",
       "<li class=\"lif__item lif__pricing\">\n",
       "                    € 225.000\n",
       "                </li><li class=\"lif__item\"><div class=\"lif__data\"><span class=\"text-bold\">2 </span><svg class=\"icon-svg\" height=\"16\" width=\"16\"><use xlink:href=\"#rooms\"></use></svg></div><div class=\"lif__text lif--muted\">locali</div></li><li class=\"lif__item\"><div class=\"lif__data\"><span class=\"text-bold\">50</span> m<sup>2</sup></div><div class=\"lif__text lif--muted\">superficie</div></li><li class=\"lif__item\"><div class=\"lif__data\"><span class=\"text-bold\">1 </span><svg class=\"icon-svg\" height=\"16\" width=\"16\"><use xlink:href=\"#bathrooms\"></use></svg></div><div class=\"lif__text lif--muted\">bagni</div></li><li class=\"lif__item hidden-xs\"><div class=\"lif__data\"><abbr class=\"text-bold im-abbr\" title=\"1\">1     \n",
       "<svg class=\"icon-svg\" height=\"16\" width=\"16\"><use xlink:href=\"#floor\"></use></svg></abbr></div><div class=\"lif__text lif--muted\">piano</div></li><li class=\"lif__item lif__guaranteed\"><div class=\"lif__text lif--muted\">immobile</div><div class=\"lif__text text-bold text-danger\">garantito</div></li></ul>\n",
       "<div class=\"descrizione\">\n",
       "<div class=\"descrizione__titolo\">Papillo eur</div>\n",
       "<p class=\"descrizione__truncate\">PAPILLO EUR in elegante complesso residenziale rifinitissimo bilocale composto da soggiorno con angolo cottura, stanza da letto bagno e ampio balcone . con Rifiniture di pregio, pavimenti in parquet / grees, infissi in legno con vetro camera e porte in noce, grate nel salone, riscaldamento termoautonomo con caldaia centralizzata, aria condizionata,...</p>\n",
       "</div>\n",
       "</div>"
      ]
     },
     "execution_count": 6,
     "metadata": {},
     "output_type": "execute_result"
    }
   ],
   "source": [
    "second_house =house_containers[1]\n",
    "second_house"
   ]
  },
  {
   "cell_type": "code",
   "execution_count": 7,
   "metadata": {},
   "outputs": [],
   "source": [
    "second_title = second_house.a"
   ]
  },
  {
   "cell_type": "code",
   "execution_count": 8,
   "metadata": {},
   "outputs": [
    {
     "data": {
      "text/plain": [
       "'Bilocale viale Italo Calvino, Fonte Ostiense, Roma'"
      ]
     },
     "execution_count": 8,
     "metadata": {},
     "output_type": "execute_result"
    }
   ],
   "source": [
    "second_title.text"
   ]
  },
  {
   "cell_type": "code",
   "execution_count": 9,
   "metadata": {},
   "outputs": [
    {
     "data": {
      "text/plain": [
       "'\\n                    € 225.000\\n                '"
      ]
     },
     "execution_count": 9,
     "metadata": {},
     "output_type": "execute_result"
    }
   ],
   "source": [
    "second_price = second_house.find_all('li')\n",
    "second_price[0].text"
   ]
  },
  {
   "cell_type": "code",
   "execution_count": 10,
   "metadata": {},
   "outputs": [
    {
     "data": {
      "text/plain": [
       "'€ 225.000'"
      ]
     },
     "execution_count": 10,
     "metadata": {},
     "output_type": "execute_result"
    }
   ],
   "source": [
    "second_price = second_house.find('li', class_=\"lif__item lif__pricing\").text.strip()\n",
    "second_price"
   ]
  },
  {
   "cell_type": "code",
   "execution_count": 93,
   "metadata": {},
   "outputs": [],
   "source": [
    "second_price = second_price.text"
   ]
  },
  {
   "cell_type": "code",
   "execution_count": 11,
   "metadata": {},
   "outputs": [],
   "source": [
    "second_locals_surface_bathrooms = second_house.findAll('span', class_=\"text-bold\")"
   ]
  },
  {
   "cell_type": "code",
   "execution_count": 21,
   "metadata": {},
   "outputs": [],
   "source": [
    "second_locals = second_locals_surface_bathrooms[0]"
   ]
  },
  {
   "cell_type": "code",
   "execution_count": 22,
   "metadata": {},
   "outputs": [],
   "source": [
    "second_locals = second_locals.text.strip()"
   ]
  },
  {
   "cell_type": "code",
   "execution_count": 23,
   "metadata": {},
   "outputs": [
    {
     "data": {
      "text/plain": [
       "'2'"
      ]
     },
     "execution_count": 23,
     "metadata": {},
     "output_type": "execute_result"
    }
   ],
   "source": [
    "second_locals"
   ]
  },
  {
   "cell_type": "code",
   "execution_count": 24,
   "metadata": {},
   "outputs": [],
   "source": [
    "second_surface = second_locals_surface_bathrooms[1]"
   ]
  },
  {
   "cell_type": "code",
   "execution_count": 25,
   "metadata": {},
   "outputs": [],
   "source": [
    "second_surface = second_surface.text.strip()"
   ]
  },
  {
   "cell_type": "code",
   "execution_count": 26,
   "metadata": {},
   "outputs": [
    {
     "data": {
      "text/plain": [
       "'50'"
      ]
     },
     "execution_count": 26,
     "metadata": {},
     "output_type": "execute_result"
    }
   ],
   "source": [
    "second_surface"
   ]
  },
  {
   "cell_type": "code",
   "execution_count": 27,
   "metadata": {},
   "outputs": [],
   "source": [
    "second_bathrooms = second_locals_surface_bathrooms[2]"
   ]
  },
  {
   "cell_type": "code",
   "execution_count": 28,
   "metadata": {},
   "outputs": [],
   "source": [
    "second_bathrooms = second_bathrooms.text.strip()"
   ]
  },
  {
   "cell_type": "code",
   "execution_count": 29,
   "metadata": {},
   "outputs": [
    {
     "data": {
      "text/plain": [
       "'1'"
      ]
     },
     "execution_count": 29,
     "metadata": {},
     "output_type": "execute_result"
    }
   ],
   "source": [
    "second_bathrooms"
   ]
  },
  {
   "cell_type": "code",
   "execution_count": 30,
   "metadata": {},
   "outputs": [],
   "source": [
    "second_floor = second_house.findAll('abbr', class_=\"text-bold im-abbr\")"
   ]
  },
  {
   "cell_type": "code",
   "execution_count": 31,
   "metadata": {},
   "outputs": [
    {
     "ename": "AttributeError",
     "evalue": "ResultSet object has no attribute 'strip'. You're probably treating a list of items like a single item. Did you call find_all() when you meant to call find()?",
     "output_type": "error",
     "traceback": [
      "\u001b[1;31m---------------------------------------------------------------------------\u001b[0m",
      "\u001b[1;31mAttributeError\u001b[0m                            Traceback (most recent call last)",
      "\u001b[1;32m<ipython-input-31-908e71e3fab2>\u001b[0m in \u001b[0;36m<module>\u001b[1;34m()\u001b[0m\n\u001b[1;32m----> 1\u001b[1;33m \u001b[0msecond_floor\u001b[0m\u001b[1;33m.\u001b[0m\u001b[0mstrip\u001b[0m\u001b[1;33m(\u001b[0m\u001b[1;33m)\u001b[0m\u001b[1;33m\u001b[0m\u001b[0m\n\u001b[0m",
      "\u001b[1;32m~\\Anaconda3\\lib\\site-packages\\bs4\\element.py\u001b[0m in \u001b[0;36m__getattr__\u001b[1;34m(self, key)\u001b[0m\n\u001b[0;32m   1882\u001b[0m     \u001b[1;32mdef\u001b[0m \u001b[0m__getattr__\u001b[0m\u001b[1;33m(\u001b[0m\u001b[0mself\u001b[0m\u001b[1;33m,\u001b[0m \u001b[0mkey\u001b[0m\u001b[1;33m)\u001b[0m\u001b[1;33m:\u001b[0m\u001b[1;33m\u001b[0m\u001b[0m\n\u001b[0;32m   1883\u001b[0m         raise AttributeError(\n\u001b[1;32m-> 1884\u001b[1;33m             \u001b[1;34m\"ResultSet object has no attribute '%s'. You're probably treating a list of items like a single item. Did you call find_all() when you meant to call find()?\"\u001b[0m \u001b[1;33m%\u001b[0m \u001b[0mkey\u001b[0m\u001b[1;33m\u001b[0m\u001b[0m\n\u001b[0m\u001b[0;32m   1885\u001b[0m         )\n",
      "\u001b[1;31mAttributeError\u001b[0m: ResultSet object has no attribute 'strip'. You're probably treating a list of items like a single item. Did you call find_all() when you meant to call find()?"
     ]
    }
   ],
   "source": [
    "second_floor.strip()"
   ]
  },
  {
   "cell_type": "code",
   "execution_count": 6,
   "metadata": {},
   "outputs": [],
   "source": [
    "# Lists to store the scraped data int\n",
    "titles = []\n",
    "prices = []\n",
    "locals_ = []\n",
    "surfaces = []\n",
    "bathrooms = []\n",
    "floors = []\n",
    "descriptions = []"
   ]
  },
  {
   "cell_type": "code",
   "execution_count": 7,
   "metadata": {},
   "outputs": [],
   "source": [
    "for house in house_containers:\n",
    "    house.find('div', class_ = '\"lif__item lif__pricing')\n",
    "    locals_surface_bathrooms = house.findAll('span', class_=\"text-bold\")\n",
    "    floor = house.findAll('abbr', class_=\"text-bold im-abbr\")\n",
    "    # If the house has all info that need us (price, locals, surface, bathroom and floor) then extract:\n",
    "    if len(locals_surface_bathrooms) == 3 :\n",
    "                      if  len(floor) == 1:\n",
    "\n",
    "        # The name\n",
    "                          \n",
    "                          title = house.a.text\n",
    "                          titles.append(title)\n",
    "\n",
    "        # The price\n",
    "                          price = house.find('li', class_=\"lif__item lif__pricing\").text.strip()\n",
    "                          prices.append(price)\n",
    "\n",
    "        #the number of locals, surface (m^2), and number of bathrooms\n",
    "                          local_ = locals_surface_bathrooms[0].text.strip()\n",
    "                          locals_.append(local_)\n",
    "                          surface = locals_surface_bathrooms[1].text.strip()\n",
    "                          surfaces.append(surface)\n",
    "                          bathroom = locals_surface_bathrooms[2].text.strip()\n",
    "                          bathrooms.append(bathroom)\n",
    "        \n",
    "        #the number of floor\n",
    "                          floors.append(floor)\n",
    "\n",
    "        # the description\n",
    "                          description = house.find('p', class_=\"descrizione__truncate\").text.strip()\n",
    "                          descriptions.append(description)"
   ]
  },
  {
   "cell_type": "code",
   "execution_count": 12,
   "metadata": {},
   "outputs": [
    {
     "data": {
      "text/plain": [
       "23"
      ]
     },
     "execution_count": 12,
     "metadata": {},
     "output_type": "execute_result"
    }
   ],
   "source": [
    "len(surfaces)"
   ]
  },
  {
   "cell_type": "code",
   "execution_count": 13,
   "metadata": {},
   "outputs": [],
   "source": [
    "test_df = pd.DataFrame({'title': titles,\n",
    "                       'price': prices,\n",
    "                       'locals': locals_,\n",
    "                       'surface': surfaces,\n",
    "                       'bathroom': bathroom,\n",
    "                       'floor': floors})"
   ]
  },
  {
   "cell_type": "code",
   "execution_count": 202,
   "metadata": {},
   "outputs": [
    {
     "name": "stdout",
     "output_type": "stream",
     "text": [
      "<class 'pandas.core.frame.DataFrame'>\n",
      "RangeIndex: 23 entries, 0 to 22\n",
      "Data columns (total 6 columns):\n",
      "title       23 non-null object\n",
      "price       23 non-null object\n",
      "locals      23 non-null object\n",
      "surface     23 non-null object\n",
      "bathroom    23 non-null object\n",
      "floor       23 non-null object\n",
      "dtypes: object(6)\n",
      "memory usage: 1.2+ KB\n",
      "None\n"
     ]
    }
   ],
   "source": [
    "print(test_df.info())"
   ]
  },
  {
   "cell_type": "code",
   "execution_count": 14,
   "metadata": {},
   "outputs": [
    {
     "data": {
      "text/html": [
       "<div>\n",
       "<style scoped>\n",
       "    .dataframe tbody tr th:only-of-type {\n",
       "        vertical-align: middle;\n",
       "    }\n",
       "\n",
       "    .dataframe tbody tr th {\n",
       "        vertical-align: top;\n",
       "    }\n",
       "\n",
       "    .dataframe thead th {\n",
       "        text-align: right;\n",
       "    }\n",
       "</style>\n",
       "<table border=\"1\" class=\"dataframe\">\n",
       "  <thead>\n",
       "    <tr style=\"text-align: right;\">\n",
       "      <th></th>\n",
       "      <th>title</th>\n",
       "      <th>price</th>\n",
       "      <th>locals</th>\n",
       "      <th>surface</th>\n",
       "      <th>bathroom</th>\n",
       "      <th>floor</th>\n",
       "    </tr>\n",
       "  </thead>\n",
       "  <tbody>\n",
       "    <tr>\n",
       "      <th>0</th>\n",
       "      <td>Bilocale viale Italo Calvino, Fonte Ostiense, ...</td>\n",
       "      <td>€ 225.000</td>\n",
       "      <td>2</td>\n",
       "      <td>50</td>\n",
       "      <td>2</td>\n",
       "      <td>[&lt;abbr class=\"text-bold im-abbr\" title=\"1\"&gt;1  ...</td>\n",
       "    </tr>\n",
       "    <tr>\n",
       "      <th>1</th>\n",
       "      <td>Appartamento via di Pietralata, Pietralata, Roma</td>\n",
       "      <td>€ 395.000</td>\n",
       "      <td>5+</td>\n",
       "      <td>130</td>\n",
       "      <td>2</td>\n",
       "      <td>[&lt;abbr class=\"text-bold im-abbr\" title=\"1\"&gt;1  ...</td>\n",
       "    </tr>\n",
       "    <tr>\n",
       "      <th>2</th>\n",
       "      <td>Appartamento via della Tribuna di Campitelli, ...</td>\n",
       "      <td>€ 3.700.000</td>\n",
       "      <td>5+</td>\n",
       "      <td>250</td>\n",
       "      <td>2</td>\n",
       "      <td>[&lt;abbr class=\"text-bold im-abbr\" title=\"5\"&gt;5  ...</td>\n",
       "    </tr>\n",
       "    <tr>\n",
       "      <th>3</th>\n",
       "      <td>Attico / Mansarda via Degli Orti Di Galba, Mon...</td>\n",
       "      <td>€ 850.000</td>\n",
       "      <td>5</td>\n",
       "      <td>175</td>\n",
       "      <td>2</td>\n",
       "      <td>[&lt;abbr class=\"text-bold im-abbr\" title=\"Ultimo...</td>\n",
       "    </tr>\n",
       "    <tr>\n",
       "      <th>4</th>\n",
       "      <td>Trilocale via Fontanellato 75, Ardeatino - Mon...</td>\n",
       "      <td>€ 279.000</td>\n",
       "      <td>3</td>\n",
       "      <td>110</td>\n",
       "      <td>2</td>\n",
       "      <td>[&lt;abbr class=\"text-bold im-abbr\" title=\"Piano ...</td>\n",
       "    </tr>\n",
       "    <tr>\n",
       "      <th>5</th>\n",
       "      <td>Trilocale via Genserico Fontana, 11, Balduina,...</td>\n",
       "      <td>€ 520.000</td>\n",
       "      <td>3</td>\n",
       "      <td>105</td>\n",
       "      <td>2</td>\n",
       "      <td>[&lt;abbr class=\"text-bold im-abbr\" title=\"1\"&gt;1  ...</td>\n",
       "    </tr>\n",
       "    <tr>\n",
       "      <th>6</th>\n",
       "      <td>Trilocale via Arnaldo Cantani, Massimina, Roma</td>\n",
       "      <td>€ 269.000</td>\n",
       "      <td>3</td>\n",
       "      <td>87</td>\n",
       "      <td>2</td>\n",
       "      <td>[&lt;abbr class=\"text-bold im-abbr\" title=\"3\"&gt;3  ...</td>\n",
       "    </tr>\n",
       "    <tr>\n",
       "      <th>7</th>\n",
       "      <td>Attico / Mansarda via dei Baullari, Campo de' ...</td>\n",
       "      <td>€ 1.050.000</td>\n",
       "      <td>5+</td>\n",
       "      <td>235</td>\n",
       "      <td>2</td>\n",
       "      <td>[&lt;abbr class=\"text-bold im-abbr\" title=\"3\"&gt;3  ...</td>\n",
       "    </tr>\n",
       "    <tr>\n",
       "      <th>8</th>\n",
       "      <td>Appartamento via della Farnesina 323, Camilluc...</td>\n",
       "      <td>€ 1.800.000</td>\n",
       "      <td>5+</td>\n",
       "      <td>250</td>\n",
       "      <td>2</td>\n",
       "      <td>[&lt;abbr class=\"text-bold im-abbr\" title=\"3\"&gt;3  ...</td>\n",
       "    </tr>\n",
       "    <tr>\n",
       "      <th>9</th>\n",
       "      <td>Attico / Mansarda via Nicolò Piccolomini, Greg...</td>\n",
       "      <td>€ 1.650.000</td>\n",
       "      <td>5+</td>\n",
       "      <td>220</td>\n",
       "      <td>2</td>\n",
       "      <td>[&lt;abbr class=\"text-bold im-abbr\" title=\"4\"&gt;4  ...</td>\n",
       "    </tr>\n",
       "    <tr>\n",
       "      <th>10</th>\n",
       "      <td>Ufficio in Vendita, Roma</td>\n",
       "      <td>€ 1.220.000</td>\n",
       "      <td>5+</td>\n",
       "      <td>245</td>\n",
       "      <td>2</td>\n",
       "      <td>[&lt;abbr class=\"text-bold im-abbr\" title=\"Piano ...</td>\n",
       "    </tr>\n",
       "    <tr>\n",
       "      <th>11</th>\n",
       "      <td>Trilocale via della Balduina, Balduina, Roma</td>\n",
       "      <td>€ 275.000</td>\n",
       "      <td>3</td>\n",
       "      <td>72</td>\n",
       "      <td>2</td>\n",
       "      <td>[&lt;abbr class=\"text-bold im-abbr\" title=\"2\"&gt;2  ...</td>\n",
       "    </tr>\n",
       "    <tr>\n",
       "      <th>12</th>\n",
       "      <td>Quadrilocale via Suor Maria Agostina, Cornelia...</td>\n",
       "      <td>€ 199.000</td>\n",
       "      <td>4</td>\n",
       "      <td>125</td>\n",
       "      <td>2</td>\n",
       "      <td>[&lt;abbr class=\"text-bold im-abbr\" title=\"1\"&gt;1  ...</td>\n",
       "    </tr>\n",
       "    <tr>\n",
       "      <th>13</th>\n",
       "      <td>Bilocale via Silicella 17, Tor Tre Teste - Tor...</td>\n",
       "      <td>€ 115.000</td>\n",
       "      <td>2</td>\n",
       "      <td>58</td>\n",
       "      <td>2</td>\n",
       "      <td>[&lt;abbr class=\"text-bold im-abbr\" title=\"3\"&gt;3  ...</td>\n",
       "    </tr>\n",
       "    <tr>\n",
       "      <th>14</th>\n",
       "      <td>Appartamento piazza Del Fante, Mazzini - Delle...</td>\n",
       "      <td>€ 1.090.000</td>\n",
       "      <td>5+</td>\n",
       "      <td>190</td>\n",
       "      <td>2</td>\n",
       "      <td>[&lt;abbr class=\"text-bold im-abbr\" title=\"2\"&gt;2  ...</td>\n",
       "    </tr>\n",
       "    <tr>\n",
       "      <th>15</th>\n",
       "      <td>Appartamento via del Governo Vecchio, Piazza N...</td>\n",
       "      <td>€ 720.000</td>\n",
       "      <td>5+</td>\n",
       "      <td>145</td>\n",
       "      <td>2</td>\n",
       "      <td>[&lt;abbr class=\"text-bold im-abbr\" title=\"1\"&gt;1  ...</td>\n",
       "    </tr>\n",
       "    <tr>\n",
       "      <th>16</th>\n",
       "      <td>Appartamento via Dandolo, Trastevere, Roma</td>\n",
       "      <td>€ 2.500.000</td>\n",
       "      <td>5+</td>\n",
       "      <td>300</td>\n",
       "      <td>2</td>\n",
       "      <td>[&lt;abbr class=\"text-bold im-abbr\" title=\"2\"&gt;2  ...</td>\n",
       "    </tr>\n",
       "    <tr>\n",
       "      <th>17</th>\n",
       "      <td>Trilocale via Zaccanopoli, Anagnina, Roma</td>\n",
       "      <td>€ 269.000</td>\n",
       "      <td>3</td>\n",
       "      <td>87</td>\n",
       "      <td>2</td>\n",
       "      <td>[&lt;abbr class=\"text-bold im-abbr\" title=\"2\"&gt;2  ...</td>\n",
       "    </tr>\n",
       "    <tr>\n",
       "      <th>18</th>\n",
       "      <td>Attico / Mansarda via Bartolomeo Dusi 18, Aure...</td>\n",
       "      <td>€ 450.000</td>\n",
       "      <td>4</td>\n",
       "      <td>166</td>\n",
       "      <td>2</td>\n",
       "      <td>[&lt;abbr class=\"text-bold im-abbr\" title=\"4\"&gt;4  ...</td>\n",
       "    </tr>\n",
       "    <tr>\n",
       "      <th>19</th>\n",
       "      <td>Quadrilocale via dei Chiavari, Campo de' Fiori...</td>\n",
       "      <td>€ 849.000</td>\n",
       "      <td>4</td>\n",
       "      <td>127</td>\n",
       "      <td>2</td>\n",
       "      <td>[&lt;abbr class=\"text-bold im-abbr\" title=\"2\"&gt;2  ...</td>\n",
       "    </tr>\n",
       "    <tr>\n",
       "      <th>20</th>\n",
       "      <td>Quadrilocale Circonvallazione Tuscolana 140, C...</td>\n",
       "      <td>€ 690.000</td>\n",
       "      <td>4</td>\n",
       "      <td>127</td>\n",
       "      <td>2</td>\n",
       "      <td>[&lt;abbr class=\"text-bold im-abbr\" title=\"1\"&gt;1  ...</td>\n",
       "    </tr>\n",
       "    <tr>\n",
       "      <th>21</th>\n",
       "      <td>Appartamento via Salvatore Quasimodo 113, Font...</td>\n",
       "      <td>€ 450.000</td>\n",
       "      <td>5</td>\n",
       "      <td>150</td>\n",
       "      <td>2</td>\n",
       "      <td>[&lt;abbr class=\"text-bold im-abbr\" title=\"3\"&gt;3  ...</td>\n",
       "    </tr>\n",
       "    <tr>\n",
       "      <th>22</th>\n",
       "      <td>Appartamento via Alberto Caroncini, Parioli, Roma</td>\n",
       "      <td>€ 850.000</td>\n",
       "      <td>5+</td>\n",
       "      <td>183</td>\n",
       "      <td>2</td>\n",
       "      <td>[&lt;abbr class=\"text-bold im-abbr\" title=\"2\"&gt;2  ...</td>\n",
       "    </tr>\n",
       "  </tbody>\n",
       "</table>\n",
       "</div>"
      ],
      "text/plain": [
       "                                                title        price locals  \\\n",
       "0   Bilocale viale Italo Calvino, Fonte Ostiense, ...    € 225.000      2   \n",
       "1    Appartamento via di Pietralata, Pietralata, Roma    € 395.000     5+   \n",
       "2   Appartamento via della Tribuna di Campitelli, ...  € 3.700.000     5+   \n",
       "3   Attico / Mansarda via Degli Orti Di Galba, Mon...    € 850.000      5   \n",
       "4   Trilocale via Fontanellato 75, Ardeatino - Mon...    € 279.000      3   \n",
       "5   Trilocale via Genserico Fontana, 11, Balduina,...    € 520.000      3   \n",
       "6      Trilocale via Arnaldo Cantani, Massimina, Roma    € 269.000      3   \n",
       "7   Attico / Mansarda via dei Baullari, Campo de' ...  € 1.050.000     5+   \n",
       "8   Appartamento via della Farnesina 323, Camilluc...  € 1.800.000     5+   \n",
       "9   Attico / Mansarda via Nicolò Piccolomini, Greg...  € 1.650.000     5+   \n",
       "10                           Ufficio in Vendita, Roma  € 1.220.000     5+   \n",
       "11       Trilocale via della Balduina, Balduina, Roma    € 275.000      3   \n",
       "12  Quadrilocale via Suor Maria Agostina, Cornelia...    € 199.000      4   \n",
       "13  Bilocale via Silicella 17, Tor Tre Teste - Tor...    € 115.000      2   \n",
       "14  Appartamento piazza Del Fante, Mazzini - Delle...  € 1.090.000     5+   \n",
       "15  Appartamento via del Governo Vecchio, Piazza N...    € 720.000     5+   \n",
       "16         Appartamento via Dandolo, Trastevere, Roma  € 2.500.000     5+   \n",
       "17          Trilocale via Zaccanopoli, Anagnina, Roma    € 269.000      3   \n",
       "18  Attico / Mansarda via Bartolomeo Dusi 18, Aure...    € 450.000      4   \n",
       "19  Quadrilocale via dei Chiavari, Campo de' Fiori...    € 849.000      4   \n",
       "20  Quadrilocale Circonvallazione Tuscolana 140, C...    € 690.000      4   \n",
       "21  Appartamento via Salvatore Quasimodo 113, Font...    € 450.000      5   \n",
       "22  Appartamento via Alberto Caroncini, Parioli, Roma    € 850.000     5+   \n",
       "\n",
       "   surface bathroom                                              floor  \n",
       "0       50        2  [<abbr class=\"text-bold im-abbr\" title=\"1\">1  ...  \n",
       "1      130        2  [<abbr class=\"text-bold im-abbr\" title=\"1\">1  ...  \n",
       "2      250        2  [<abbr class=\"text-bold im-abbr\" title=\"5\">5  ...  \n",
       "3      175        2  [<abbr class=\"text-bold im-abbr\" title=\"Ultimo...  \n",
       "4      110        2  [<abbr class=\"text-bold im-abbr\" title=\"Piano ...  \n",
       "5      105        2  [<abbr class=\"text-bold im-abbr\" title=\"1\">1  ...  \n",
       "6       87        2  [<abbr class=\"text-bold im-abbr\" title=\"3\">3  ...  \n",
       "7      235        2  [<abbr class=\"text-bold im-abbr\" title=\"3\">3  ...  \n",
       "8      250        2  [<abbr class=\"text-bold im-abbr\" title=\"3\">3  ...  \n",
       "9      220        2  [<abbr class=\"text-bold im-abbr\" title=\"4\">4  ...  \n",
       "10     245        2  [<abbr class=\"text-bold im-abbr\" title=\"Piano ...  \n",
       "11      72        2  [<abbr class=\"text-bold im-abbr\" title=\"2\">2  ...  \n",
       "12     125        2  [<abbr class=\"text-bold im-abbr\" title=\"1\">1  ...  \n",
       "13      58        2  [<abbr class=\"text-bold im-abbr\" title=\"3\">3  ...  \n",
       "14     190        2  [<abbr class=\"text-bold im-abbr\" title=\"2\">2  ...  \n",
       "15     145        2  [<abbr class=\"text-bold im-abbr\" title=\"1\">1  ...  \n",
       "16     300        2  [<abbr class=\"text-bold im-abbr\" title=\"2\">2  ...  \n",
       "17      87        2  [<abbr class=\"text-bold im-abbr\" title=\"2\">2  ...  \n",
       "18     166        2  [<abbr class=\"text-bold im-abbr\" title=\"4\">4  ...  \n",
       "19     127        2  [<abbr class=\"text-bold im-abbr\" title=\"2\">2  ...  \n",
       "20     127        2  [<abbr class=\"text-bold im-abbr\" title=\"1\">1  ...  \n",
       "21     150        2  [<abbr class=\"text-bold im-abbr\" title=\"3\">3  ...  \n",
       "22     183        2  [<abbr class=\"text-bold im-abbr\" title=\"2\">2  ...  "
      ]
     },
     "execution_count": 14,
     "metadata": {},
     "output_type": "execute_result"
    }
   ],
   "source": [
    "test_df"
   ]
  },
  {
   "cell_type": "markdown",
   "metadata": {},
   "source": [
    "Now, our goal is create a tf-idf matrix"
   ]
  },
  {
   "cell_type": "markdown",
   "metadata": {},
   "source": [
    "First step: create a list of all words in houses description"
   ]
  },
  {
   "cell_type": "code",
   "execution_count": 39,
   "metadata": {},
   "outputs": [
    {
     "data": {
      "text/plain": [
       "'PAPILLO EUR in elegante complesso residenziale rifinitissimo bilocale composto da soggiorno con angolo cottura, stanza da letto bagno e ampio balcone . con Rifiniture di pregio, pavimenti in parquet / grees, infissi in legno con vetro camera e porte in noce, grate nel salone, riscaldamento termoautonomo con caldaia centralizzata, aria condizionata,...'"
      ]
     },
     "execution_count": 39,
     "metadata": {},
     "output_type": "execute_result"
    }
   ],
   "source": [
    "descriptions[0]"
   ]
  },
  {
   "cell_type": "code",
   "execution_count": 40,
   "metadata": {},
   "outputs": [],
   "source": [
    "a = descriptions[0]"
   ]
  },
  {
   "cell_type": "code",
   "execution_count": 57,
   "metadata": {},
   "outputs": [],
   "source": [
    "def clening_description(description):  # use all the techniques to remove unwanted items from words\n",
    "    \n",
    "    tokenizer = RegexpTokenizer(r'\\w+')\n",
    "    ps = PorterStemmer()\n",
    "    # Remove \"\\\\n\" and replace with a space\n",
    "    description = description.replace(\"\\\\n\", \" \")\n",
    "    # Convert everything to lowercase\n",
    "    description = description.lower()\n",
    "    # Removing punctuation\n",
    "    description = tokenizer.tokenize(description)\n",
    "    # Stemming\n",
    "    description = [ps.stem(word) for word in description]\n",
    "    # Removing stopwords\n",
    "    description = [word for word in description if word not in stopwords.words('italian')]\n",
    "    # No integers\n",
    "    description = [x for x in description if not (x.isdigit() or x[0].isdigit())]\n",
    "    return description"
   ]
  },
  {
   "cell_type": "code",
   "execution_count": 58,
   "metadata": {},
   "outputs": [],
   "source": [
    "a = clening_description(descriptions[0])"
   ]
  },
  {
   "cell_type": "code",
   "execution_count": 59,
   "metadata": {},
   "outputs": [
    {
     "data": {
      "text/plain": [
       "['papillo',\n",
       " 'eur',\n",
       " 'elegant',\n",
       " 'complesso',\n",
       " 'residenzial',\n",
       " 'rifinitissimo',\n",
       " 'bilocal',\n",
       " 'composto',\n",
       " 'soggiorno',\n",
       " 'angolo',\n",
       " 'cottura',\n",
       " 'stanza',\n",
       " 'letto',\n",
       " 'bagno',\n",
       " 'ampio',\n",
       " 'balcon',\n",
       " 'rifinitur',\n",
       " 'pregio',\n",
       " 'pavimenti',\n",
       " 'parquet',\n",
       " 'gree',\n",
       " 'infissi',\n",
       " 'legno',\n",
       " 'vetro',\n",
       " 'camera',\n",
       " 'port',\n",
       " 'noce',\n",
       " 'grate',\n",
       " 'salon',\n",
       " 'riscaldamento',\n",
       " 'termoautonomo',\n",
       " 'caldaia',\n",
       " 'centralizzata',\n",
       " 'aria',\n",
       " 'condizionata']"
      ]
     },
     "execution_count": 59,
     "metadata": {},
     "output_type": "execute_result"
    }
   ],
   "source": [
    "a"
   ]
  },
  {
   "cell_type": "code",
   "execution_count": null,
   "metadata": {},
   "outputs": [],
   "source": []
  }
 ],
 "metadata": {
  "kernelspec": {
   "display_name": "Python 3",
   "language": "python",
   "name": "python3"
  },
  "language_info": {
   "codemirror_mode": {
    "name": "ipython",
    "version": 3
   },
   "file_extension": ".py",
   "mimetype": "text/x-python",
   "name": "python",
   "nbconvert_exporter": "python",
   "pygments_lexer": "ipython3",
   "version": "3.7.0"
  }
 },
 "nbformat": 4,
 "nbformat_minor": 2
}
